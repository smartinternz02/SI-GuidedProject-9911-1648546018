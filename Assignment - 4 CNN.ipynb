{
 "cells": [
  {
   "cell_type": "markdown",
   "id": "fea00caf",
   "metadata": {},
   "source": [
    "# Image Augmentation"
   ]
  },
  {
   "cell_type": "code",
   "execution_count": 1,
   "id": "317439a8",
   "metadata": {},
   "outputs": [],
   "source": [
    "from tensorflow.keras.preprocessing.image import ImageDataGenerator"
   ]
  },
  {
   "cell_type": "code",
   "execution_count": 2,
   "id": "68eb30c0",
   "metadata": {},
   "outputs": [],
   "source": [
    "train_datagen = ImageDataGenerator(rescale=1/255,zoom_range=0.2,horizontal_flip=True,vertical_flip=False)"
   ]
  },
  {
   "cell_type": "code",
   "execution_count": 3,
   "id": "b88f82ea",
   "metadata": {},
   "outputs": [],
   "source": [
    "test_datagen = ImageDataGenerator(rescale=1/255)"
   ]
  },
  {
   "cell_type": "code",
   "execution_count": 4,
   "id": "54573efa",
   "metadata": {},
   "outputs": [
    {
     "name": "stdout",
     "output_type": "stream",
     "text": [
      "Found 2520 images belonging to 3 classes.\n"
     ]
    }
   ],
   "source": [
    "x_train = train_datagen.flow_from_directory(r'E:\\vitExternship\\DataSet\\RPS_Dataset\\Training',target_size=(64,64),\n",
    "                                           class_mode='categorical',batch_size=100)"
   ]
  },
  {
   "cell_type": "code",
   "execution_count": 5,
   "id": "2760658a",
   "metadata": {},
   "outputs": [
    {
     "data": {
      "text/plain": [
       "26"
      ]
     },
     "execution_count": 5,
     "metadata": {},
     "output_type": "execute_result"
    }
   ],
   "source": [
    "len(x_train)"
   ]
  },
  {
   "cell_type": "code",
   "execution_count": 6,
   "id": "0680bd5b",
   "metadata": {},
   "outputs": [
    {
     "name": "stdout",
     "output_type": "stream",
     "text": [
      "Found 372 images belonging to 3 classes.\n"
     ]
    }
   ],
   "source": [
    "x_test = train_datagen.flow_from_directory(r'E:\\vitExternship\\DataSet\\RPS_Dataset\\Testing',target_size=(64,64),\n",
    "                                           class_mode='categorical',batch_size=100)"
   ]
  },
  {
   "cell_type": "code",
   "execution_count": 7,
   "id": "4e3b8bd3",
   "metadata": {},
   "outputs": [
    {
     "data": {
      "text/plain": [
       "{'paper': 0, 'rock': 1, 'scissors': 2}"
      ]
     },
     "execution_count": 7,
     "metadata": {},
     "output_type": "execute_result"
    }
   ],
   "source": [
    "x_train.class_indices"
   ]
  },
  {
   "cell_type": "markdown",
   "id": "240ca602",
   "metadata": {},
   "source": [
    "# Importing Necessary Libraries"
   ]
  },
  {
   "cell_type": "code",
   "execution_count": 8,
   "id": "7ac47a85",
   "metadata": {},
   "outputs": [],
   "source": [
    "from tensorflow.keras.models import Sequential\n",
    "from tensorflow.keras.layers import Convolution2D, MaxPooling2D, Flatten, Dense"
   ]
  },
  {
   "cell_type": "markdown",
   "id": "d3060ed5",
   "metadata": {},
   "source": [
    "# Creating a Model"
   ]
  },
  {
   "cell_type": "code",
   "execution_count": 9,
   "id": "2f9ffe93",
   "metadata": {},
   "outputs": [],
   "source": [
    "model = Sequential()"
   ]
  },
  {
   "cell_type": "markdown",
   "id": "4c4f9495",
   "metadata": {},
   "source": [
    "# Adding Layers"
   ]
  },
  {
   "cell_type": "code",
   "execution_count": 10,
   "id": "ff741fff",
   "metadata": {},
   "outputs": [],
   "source": [
    "#Convulation Layer\n",
    "model.add(Convolution2D(32,(3,3),activation='relu',input_shape=(64,64,3)))"
   ]
  },
  {
   "cell_type": "code",
   "execution_count": 11,
   "id": "1ebb103b",
   "metadata": {},
   "outputs": [],
   "source": [
    "#Pooling Layer\n",
    "model.add(MaxPooling2D(pool_size=(2,2)))"
   ]
  },
  {
   "cell_type": "code",
   "execution_count": 12,
   "id": "2389f869",
   "metadata": {},
   "outputs": [],
   "source": [
    "#Flattening Layer\n",
    "model.add(Flatten())"
   ]
  },
  {
   "cell_type": "code",
   "execution_count": 13,
   "id": "f13b0810",
   "metadata": {},
   "outputs": [],
   "source": [
    "#Hidden Layer1\n",
    "model.add(Dense(300,activation='relu'))"
   ]
  },
  {
   "cell_type": "code",
   "execution_count": 14,
   "id": "5c7c7673",
   "metadata": {},
   "outputs": [],
   "source": [
    "#Hidden Layer2\n",
    "model.add(Dense(300,activation='relu'))"
   ]
  },
  {
   "cell_type": "code",
   "execution_count": 15,
   "id": "89922e83",
   "metadata": {},
   "outputs": [],
   "source": [
    "#Output Layer\n",
    "model.add(Dense(3,activation='softmax'))"
   ]
  },
  {
   "cell_type": "markdown",
   "id": "085dee0f",
   "metadata": {},
   "source": [
    "# Compiling the model"
   ]
  },
  {
   "cell_type": "code",
   "execution_count": 16,
   "id": "262e5176",
   "metadata": {},
   "outputs": [],
   "source": [
    "model.compile(loss='categorical_crossentropy',optimizer='adam',metrics=['accuracy'])"
   ]
  },
  {
   "cell_type": "markdown",
   "id": "db50336e",
   "metadata": {},
   "source": [
    "# Fitting the model"
   ]
  },
  {
   "cell_type": "code",
   "execution_count": 17,
   "id": "757130ec",
   "metadata": {},
   "outputs": [
    {
     "name": "stderr",
     "output_type": "stream",
     "text": [
      "C:\\Users\\santh\\AppData\\Local\\Temp/ipykernel_2988/234118701.py:1: UserWarning: `Model.fit_generator` is deprecated and will be removed in a future version. Please use `Model.fit`, which supports generators.\n",
      "  model.fit_generator(x_train,steps_per_epoch=len(x_train),epochs=10,validation_data=x_test,validation_steps=len(x_test))\n"
     ]
    },
    {
     "name": "stdout",
     "output_type": "stream",
     "text": [
      "Epoch 1/10\n",
      "26/26 [==============================] - 13s 493ms/step - loss: 1.3205 - accuracy: 0.4099 - val_loss: 1.0059 - val_accuracy: 0.4677\n",
      "Epoch 2/10\n",
      "26/26 [==============================] - 12s 448ms/step - loss: 0.6244 - accuracy: 0.8024 - val_loss: 0.6927 - val_accuracy: 0.6935\n",
      "Epoch 3/10\n",
      "26/26 [==============================] - 12s 463ms/step - loss: 0.2560 - accuracy: 0.9393 - val_loss: 0.6111 - val_accuracy: 0.7339\n",
      "Epoch 4/10\n",
      "26/26 [==============================] - 12s 443ms/step - loss: 0.1434 - accuracy: 0.9591 - val_loss: 0.5085 - val_accuracy: 0.7903\n",
      "Epoch 5/10\n",
      "26/26 [==============================] - 12s 445ms/step - loss: 0.0880 - accuracy: 0.9782 - val_loss: 0.5467 - val_accuracy: 0.7823\n",
      "Epoch 6/10\n",
      "26/26 [==============================] - 12s 442ms/step - loss: 0.0703 - accuracy: 0.9817 - val_loss: 0.5556 - val_accuracy: 0.7957\n",
      "Epoch 7/10\n",
      "26/26 [==============================] - 12s 448ms/step - loss: 0.0550 - accuracy: 0.9849 - val_loss: 0.9709 - val_accuracy: 0.6882\n",
      "Epoch 8/10\n",
      "26/26 [==============================] - 12s 447ms/step - loss: 0.0324 - accuracy: 0.9917 - val_loss: 0.8011 - val_accuracy: 0.7097\n",
      "Epoch 9/10\n",
      "26/26 [==============================] - 12s 442ms/step - loss: 0.0318 - accuracy: 0.9905 - val_loss: 0.7271 - val_accuracy: 0.7608\n",
      "Epoch 10/10\n",
      "26/26 [==============================] - 11s 442ms/step - loss: 0.0350 - accuracy: 0.9909 - val_loss: 1.2306 - val_accuracy: 0.6694\n"
     ]
    },
    {
     "data": {
      "text/plain": [
       "<keras.callbacks.History at 0x21134c79340>"
      ]
     },
     "execution_count": 17,
     "metadata": {},
     "output_type": "execute_result"
    }
   ],
   "source": [
    "model.fit_generator(x_train,steps_per_epoch=len(x_train),epochs=10,validation_data=x_test,validation_steps=len(x_test))"
   ]
  },
  {
   "cell_type": "markdown",
   "id": "4d5fd76d",
   "metadata": {},
   "source": [
    "# Save the Model"
   ]
  },
  {
   "cell_type": "code",
   "execution_count": 18,
   "id": "2eb73118",
   "metadata": {},
   "outputs": [],
   "source": [
    "model.save('RPS.h5')"
   ]
  },
  {
   "cell_type": "markdown",
   "id": "10aaa0a6",
   "metadata": {},
   "source": [
    "# Testing the model"
   ]
  },
  {
   "cell_type": "code",
   "execution_count": 19,
   "id": "7bc01893",
   "metadata": {},
   "outputs": [],
   "source": [
    "import numpy as np\n",
    "from tensorflow.keras.models import load_model\n",
    "from tensorflow.keras.preprocessing import image"
   ]
  },
  {
   "cell_type": "code",
   "execution_count": 20,
   "id": "faf6b8bf",
   "metadata": {},
   "outputs": [],
   "source": [
    "model = load_model('RPS.h5')\n",
    "img = image.load_img(r'E:\\vitExternship\\DataSet\\RPS_Dataset\\Testing\\scissors\\testscissors01-07.png',target_size=(64,64))"
   ]
  },
  {
   "cell_type": "code",
   "execution_count": 21,
   "id": "c474f439",
   "metadata": {},
   "outputs": [
    {
     "data": {
      "image/png": "[encoded data removed]",
      "text/plain": [
       "<PIL.Image.Image image mode=RGB size=64x64 at 0x2113E9A4220>"
      ]
     },
     "execution_count": 21,
     "metadata": {},
     "output_type": "execute_result"
    }
   ],
   "source": [
    "img"
   ]
  },
  {
   "cell_type": "code",
   "execution_count": 22,
   "id": "1014e7a8",
   "metadata": {},
   "outputs": [],
   "source": [
    "x=image.img_to_array(img)"
   ]
  },
  {
   "cell_type": "code",
   "execution_count": 23,
   "id": "193c90a5",
   "metadata": {},
   "outputs": [
    {
     "data": {
      "text/plain": [
       "array([[[254., 254., 254.],\n",
       "        [254., 254., 254.],\n",
       "        [254., 254., 254.],\n",
       "        ...,\n",
       "        [252., 252., 252.],\n",
       "        [252., 252., 252.],\n",
       "        [253., 253., 253.]],\n",
       "\n",
       "       [[254., 254., 254.],\n",
       "        [254., 254., 254.],\n",
       "        [254., 254., 254.],\n",
       "        ...,\n",
       "        [252., 252., 252.],\n",
       "        [252., 252., 252.],\n",
       "        [251., 251., 251.]],\n",
       "\n",
       "       [[254., 254., 254.],\n",
       "        [253., 253., 253.],\n",
       "        [254., 254., 254.],\n",
       "        ...,\n",
       "        [252., 252., 252.],\n",
       "        [251., 251., 251.],\n",
       "        [251., 251., 251.]],\n",
       "\n",
       "       ...,\n",
       "\n",
       "       [[251., 251., 251.],\n",
       "        [250., 250., 250.],\n",
       "        [250., 250., 250.],\n",
       "        ...,\n",
       "        [249., 249., 249.],\n",
       "        [249., 249., 249.],\n",
       "        [249., 249., 249.]],\n",
       "\n",
       "       [[251., 251., 251.],\n",
       "        [249., 249., 249.],\n",
       "        [251., 251., 251.],\n",
       "        ...,\n",
       "        [250., 250., 250.],\n",
       "        [250., 250., 250.],\n",
       "        [249., 249., 249.]],\n",
       "\n",
       "       [[250., 250., 250.],\n",
       "        [251., 251., 251.],\n",
       "        [251., 251., 251.],\n",
       "        ...,\n",
       "        [250., 250., 250.],\n",
       "        [248., 248., 248.],\n",
       "        [249., 249., 249.]]], dtype=float32)"
      ]
     },
     "execution_count": 23,
     "metadata": {},
     "output_type": "execute_result"
    }
   ],
   "source": [
    "x"
   ]
  },
  {
   "cell_type": "code",
   "execution_count": 24,
   "id": "d406607f",
   "metadata": {},
   "outputs": [
    {
     "data": {
      "text/plain": [
       "3"
      ]
     },
     "execution_count": 24,
     "metadata": {},
     "output_type": "execute_result"
    }
   ],
   "source": [
    "x.ndim"
   ]
  },
  {
   "cell_type": "code",
   "execution_count": 25,
   "id": "895fbb7f",
   "metadata": {},
   "outputs": [],
   "source": [
    "x=np.expand_dims(x,axis=0)"
   ]
  },
  {
   "cell_type": "code",
   "execution_count": 26,
   "id": "927dcb63",
   "metadata": {},
   "outputs": [
    {
     "data": {
      "text/plain": [
       "4"
      ]
     },
     "execution_count": 26,
     "metadata": {},
     "output_type": "execute_result"
    }
   ],
   "source": [
    "x.ndim"
   ]
  },
  {
   "cell_type": "code",
   "execution_count": 27,
   "id": "89ae3445",
   "metadata": {},
   "outputs": [
    {
     "name": "stdout",
     "output_type": "stream",
     "text": [
      "1/1 [==============================] - 0s 74ms/step\n"
     ]
    }
   ],
   "source": [
    "pred = np.argmax(model.predict(x),axis=1)"
   ]
  },
  {
   "cell_type": "code",
   "execution_count": 28,
   "id": "cf92f259",
   "metadata": {},
   "outputs": [
    {
     "data": {
      "text/plain": [
       "array([2], dtype=int64)"
      ]
     },
     "execution_count": 28,
     "metadata": {},
     "output_type": "execute_result"
    }
   ],
   "source": [
    "pred"
   ]
  },
  {
   "cell_type": "code",
   "execution_count": 29,
   "id": "ca50f621",
   "metadata": {},
   "outputs": [],
   "source": [
    "index = [\"Paper\",\"Rock\",\"Scissors\"]"
   ]
  },
  {
   "cell_type": "code",
   "execution_count": 30,
   "id": "3c23f790",
   "metadata": {},
   "outputs": [
    {
     "name": "stdout",
     "output_type": "stream",
     "text": [
      "Scissors\n"
     ]
    }
   ],
   "source": [
    "print(index[pred[0]])"
   ]
  },
  {
   "cell_type": "markdown",
   "id": "ccffa438",
   "metadata": {},
   "source": [
    "# CNN video Analysis"
   ]
  },
  {
   "cell_type": "code",
   "execution_count": null,
   "id": "2da09256",
   "metadata": {},
   "outputs": [],
   "source": [
    "import numpy as np\n",
    "import cv2\n",
    "from tensorflow.keras.models import load_model\n",
    "from tensorflow.keras.preprocessing import image\n",
    "model = load_model('RPS.h5')\n",
    "video = cv2.VideoCapture(0)\n",
    "index = [\"Paper\",\"Rock\",\"Scissors\"]\n",
    "while 1:\n",
    "    success,frame=video.read()\n",
    "    cv2.imwrite('RPS.jpg',frame)\n",
    "    img=image.load_img('RPS.jpg',target_size=(64,64))\n",
    "    x=image.img_to_array(img)\n",
    "    x=np.expand_dims(x,axis=0)\n",
    "    pred=np.argmax(model.predict(x),axis=1)\n",
    "    y=pred[0]\n",
    "    cv2.putText(frame,'The Predicted Symbol is: '+str(index[y]),(100,100),cv2.FONT_HERSHEY_SIMPLEX,1,(0,0,0),4)\n",
    "    cv2.imshow('image',frame)\n",
    "    if cv2.waitKey(1) & 0xFF == ord('q'):\n",
    "        break\n",
    "video.release()\n",
    "cv2.destroyAllWindows()"
   ]
  },
  {
   "cell_type": "markdown",
   "id": "43c04d8f",
   "metadata": {},
   "source": [
    "# End of the Assignment"
   ]
  }
 ],
 "metadata": {
  "kernelspec": {
   "display_name": "Python 3 (ipykernel)",
   "language": "python",
   "name": "python3"
  },
  "language_info": {
   "codemirror_mode": {
    "name": "ipython",
    "version": 3
   },
   "file_extension": ".py",
   "mimetype": "text/x-python",
   "name": "python",
   "nbconvert_exporter": "python",
   "pygments_lexer": "ipython3",
   "version": "3.9.7"
  }
 },
 "nbformat": 4,
 "nbformat_minor": 5
}
